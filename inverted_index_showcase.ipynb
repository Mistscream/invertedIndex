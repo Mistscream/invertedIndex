{
 "cells": [
  {
   "cell_type": "code",
   "execution_count": 6,
   "metadata": {},
   "outputs": [],
   "source": [
    "from invertedIndex.index import invertedIndex\n",
    "from pprint import pprint"
   ]
  },
  {
   "cell_type": "code",
   "execution_count": 7,
   "metadata": {},
   "outputs": [],
   "source": [
    "sample_data = [\n",
    "    {\n",
    "        \"_id\": 1,\n",
    "        \"text\": \"Polizeimeldung vom 23.05.2018. Neukölln. Nr. 1138. Mit leichten Verletzungen kam die Mitarbeiterin einer Sicherheitsfirma in der vergangenen Nacht zur ambulanten Behandlung in ein Krankenhaus. Sie hatte gegen 0.35 Uhr eine Unbekannte beim Besprühen einer Hauswand in der Weisestraße erwischt, die dann unvermittelt mit der Spraydose auf sie einschlug. Die Unbekannte flüchtete mit einem Begleiter in Richtung Flughafenstraße.\",\n",
    "        \"preprocessed\": [[0, 14, 'polizeimeldung'], [19, 29, '23.05.2018'], [31, 39, 'neukölln'], [41, 44, 'nr.'], [45, 49, '1138'], [55, 63, 'leicht'], [64, 76, 'verletzung'], [85, 98, 'mitarbeiterin'], [105, 121, 'sicherheitsfirma'], [141, 146, 'nacht'], [151, 161, 'ambulant'], [162, 172, 'behandlung'], [180, 191, 'krankenhaus'], [209, 213, '0.35'], [214, 217, 'uhr'], [223, 233, 'unbekannte'], [239, 248, 'besprühen'], [255, 263, 'hauswand'], [271, 282, 'weisestraße'], [283, 291, 'erwischen'], [302, 314, 'unvermittelt'], [323, 332, 'spraydose'], [341, 350, 'einschlagen'], [356, 366, 'unbekannte'], [367, 376, 'flüchten'], [387, 396, 'begleiter'], [400, 408, 'richtung'], [409, 424, 'flughafenstraße']]\n",
    "    },\n",
    "    {\n",
    "        \"_id\": 2,\n",
    "        \"text\": \"Polizeimeldung vom 28.10.2013. Charlottenburg - Wilmersdorf. 23.07.2013. In der Nacht von Dienstag, 23. Juli 2013, zu Mittwoch, 24. Juli 2013, brachen mindestens drei unbekannte Täter in die Büroräume der Firma in der Lietzenburger Straße ein. Hier entwendeten die Gesuchten einen Stahlschrank, in dem sich Geld sowie eine Firmen-EC-Karte mit den entsprechenden Zugangsdaten befanden. In der Folge bezahlten die Täter mit der gestohlenen EC-Karte am 24. Juli 2013 gegen 12 Uhr in einem NP-Markt in der Kreuzberger Prinzenstraße Waren an der Kasse und hoben einen Tag später gegen 0 Uhr 35 an einem Geldautomaten einer Sparkassenfiliale in der Turmstraße in Moabit Geld ab.\",\n",
    "        \"preprocessed\": [[0, 14, 'polizeimeldung'], [19, 29, '28.10.2013'], [31, 45, 'charlottenburg'], [48, 59, 'wilmersdorf'], [61, 71, '23.07.2013'], [80, 85, 'nacht'], [90, 98, 'dienstag'], [100, 102, '23'], [104, 108, 'juli'], [109, 113, '2013'], [118, 126, 'mittwoch'], [128, 130, '24'], [132, 136, 'juli'], [137, 141, '2013'], [143, 150, 'brach'], [151, 161, 'mindestens'], [167, 177, 'unbekannt'], [178, 183, 'täter'], [191, 200, 'büroraum'], [205, 210, 'firma'], [218, 231, 'lietzenburger'], [232, 238, 'straße'], [249, 260, 'entwenden'], [265, 274, 'gesuchte'], [281, 293, 'stahlschrank'], [307, 311, 'geld'], [323, 338, 'firmen-ec-karte'], [347, 361, 'entsprechend'], [362, 374, 'zugangsdaten'], [375, 383, 'befinden'], [392, 397, 'folge'], [398, 407, 'bezahlen'], [412, 417, 'täter'], [426, 437, 'gestohlen'], [438, 446, 'ec-karte'], [450, 452, '24'], [454, 458, 'juli'], [459, 463, '2013'], [470, 472, '12'], [473, 476, 'uhr'], [486, 494, 'np-markt'], [502, 513, 'kreuzberger'], [514, 527, 'prinzenstraße'], [541, 546, 'kasse'], [551, 556, 'heben'], [580, 581, '0'], [582, 585, 'uhr'], [586, 588, '35'], [598, 611, 'geldautomat'], [618, 635, 'sparkassenfiliale'], [643, 653, 'turmstraße'], [657, 663, 'moabit'], [664, 668, 'geld']]\n",
    "    }\n",
    "]"
   ]
  },
  {
   "cell_type": "markdown",
   "metadata": {},
   "source": [
    "## Create inverted Index"
   ]
  },
  {
   "cell_type": "code",
   "execution_count": 8,
   "metadata": {},
   "outputs": [],
   "source": [
    "iv = invertedIndex(sample_data, preprocessed_field=\"preprocessed\")"
   ]
  },
  {
   "cell_type": "code",
   "execution_count": 9,
   "metadata": {},
   "outputs": [
    {
     "name": "stdout",
     "output_type": "stream",
     "text": [
      "['0', '0.35', '1138', '12', '2013', '23', '23.05.2018', '23.07.2013', '24', '28.10.2013', '35', 'ambulant', 'befinden', 'begleiter', 'behandlung', 'besprühen', 'bezahlen', 'brach', 'büroraum', 'charlottenburg', 'dienstag', 'ec-karte', 'einschlagen', 'entsprechend', 'entwenden', 'erwischen', 'firma', 'firmen-ec-karte', 'flughafenstraße', 'flüchten', 'folge', 'geld', 'geldautomat', 'gestohlen', 'gesuchte', 'hauswand', 'heben', 'juli', 'kasse', 'krankenhaus', 'kreuzberger', 'leicht', 'lietzenburger', 'mindestens', 'mitarbeiterin', 'mittwoch', 'moabit', 'nacht', 'neukölln', 'np-markt', 'nr.', 'polizeimeldung', 'prinzenstraße', 'richtung', 'sicherheitsfirma', 'sparkassenfiliale', 'spraydose', 'stahlschrank', 'straße', 'turmstraße', 'täter', 'uhr', 'unbekannt', 'unbekannte', 'unvermittelt', 'verletzung', 'weisestraße', 'wilmersdorf', 'zugangsdaten']\n"
     ]
    }
   ],
   "source": [
    "# all words in texts without duplicates and sorted:\n",
    "print(iv.uniqueWords)"
   ]
  },
  {
   "cell_type": "markdown",
   "metadata": {},
   "source": [
    "### inverted index format:\n",
    "- dict in format like:\n",
    "    - keys = words\n",
    "    - values = set of occurences of the word in the text with elements like: (text-id, start-char-postition-in-text, <end-char-position-in-text)\n",
    "\n",
    "{  \n",
    "    'wort': set([(text-id, start-char, end-char)], ...),  \n",
    "    ...  \n",
    "}"
   ]
  },
  {
   "cell_type": "code",
   "execution_count": 12,
   "metadata": {},
   "outputs": [
    {
     "name": "stdout",
     "output_type": "stream",
     "text": [
      "{'0': {('2', 580, 581)},\n",
      " '0.35': {('1', 209, 213)},\n",
      " '1138': {('1', 45, 49)},\n",
      " '12': {('2', 470, 472)},\n",
      " '2013': {('2', 459, 463), ('2', 137, 141), ('2', 109, 113)},\n",
      " '23': {('2', 100, 102)},\n",
      " '23.05.2018': {('1', 19, 29)},\n",
      " '23.07.2013': {('2', 61, 71)},\n",
      " '24': {('2', 128, 130), ('2', 450, 452)},\n",
      " '28.10.2013': {('2', 19, 29)},\n",
      " '35': {('2', 586, 588)},\n",
      " 'ambulant': {('1', 151, 161)},\n",
      " 'befinden': {('2', 375, 383)},\n",
      " 'begleiter': {('1', 387, 396)},\n",
      " 'behandlung': {('1', 162, 172)},\n",
      " 'besprühen': {('1', 239, 248)},\n",
      " 'bezahlen': {('2', 398, 407)},\n",
      " 'brach': {('2', 143, 150)},\n",
      " 'büroraum': {('2', 191, 200)},\n",
      " 'charlottenburg': {('2', 31, 45)},\n",
      " 'dienstag': {('2', 90, 98)},\n",
      " 'ec-karte': {('2', 438, 446)},\n",
      " 'einschlagen': {('1', 341, 350)},\n",
      " 'entsprechend': {('2', 347, 361)},\n",
      " 'entwenden': {('2', 249, 260)},\n",
      " 'erwischen': {('1', 283, 291)},\n",
      " 'firma': {('2', 205, 210)},\n",
      " 'firmen-ec-karte': {('2', 323, 338)},\n",
      " 'flughafenstraße': {('1', 409, 424)},\n",
      " 'flüchten': {('1', 367, 376)},\n",
      " 'folge': {('2', 392, 397)},\n",
      " 'geld': {('2', 307, 311), ('2', 664, 668)},\n",
      " 'geldautomat': {('2', 598, 611)},\n",
      " 'gestohlen': {('2', 426, 437)},\n",
      " 'gesuchte': {('2', 265, 274)},\n",
      " 'hauswand': {('1', 255, 263)},\n",
      " 'heben': {('2', 551, 556)},\n",
      " 'juli': {('2', 454, 458), ('2', 104, 108), ('2', 132, 136)},\n",
      " 'kasse': {('2', 541, 546)},\n",
      " 'krankenhaus': {('1', 180, 191)},\n",
      " 'kreuzberger': {('2', 502, 513)},\n",
      " 'leicht': {('1', 55, 63)},\n",
      " 'lietzenburger': {('2', 218, 231)},\n",
      " 'mindestens': {('2', 151, 161)},\n",
      " 'mitarbeiterin': {('1', 85, 98)},\n",
      " 'mittwoch': {('2', 118, 126)},\n",
      " 'moabit': {('2', 657, 663)},\n",
      " 'nacht': {('2', 80, 85), ('1', 141, 146)},\n",
      " 'neukölln': {('1', 31, 39)},\n",
      " 'np-markt': {('2', 486, 494)},\n",
      " 'nr.': {('1', 41, 44)},\n",
      " 'polizeimeldung': {('1', 0, 14), ('2', 0, 14)},\n",
      " 'prinzenstraße': {('2', 514, 527)},\n",
      " 'richtung': {('1', 400, 408)},\n",
      " 'sicherheitsfirma': {('1', 105, 121)},\n",
      " 'sparkassenfiliale': {('2', 618, 635)},\n",
      " 'spraydose': {('1', 323, 332)},\n",
      " 'stahlschrank': {('2', 281, 293)},\n",
      " 'straße': {('2', 232, 238)},\n",
      " 'turmstraße': {('2', 643, 653)},\n",
      " 'täter': {('2', 178, 183), ('2', 412, 417)},\n",
      " 'uhr': {('2', 582, 585), ('2', 473, 476), ('1', 214, 217)},\n",
      " 'unbekannt': {('2', 167, 177)},\n",
      " 'unbekannte': {('1', 223, 233), ('1', 356, 366)},\n",
      " 'unvermittelt': {('1', 302, 314)},\n",
      " 'verletzung': {('1', 64, 76)},\n",
      " 'weisestraße': {('1', 271, 282)},\n",
      " 'wilmersdorf': {('2', 48, 59)},\n",
      " 'zugangsdaten': {('2', 362, 374)}}\n"
     ]
    }
   ],
   "source": [
    "# inverted index for the texts:\n",
    "pprint(iv.index)"
   ]
  },
  {
   "cell_type": "markdown",
   "metadata": {},
   "source": [
    "### Do a simple full-text search:\n",
    "input as list of allready preprocessed search-term. same lemmatization is important, as in index\n",
    "\n",
    "#### Search Result interpreation:\n",
    "The search returns an OrderedDict with the documents which are matching the search term.  \n",
    "At the moment the document order is dependent of the most matching terms. A minimal distance between the words in the search term is also computed, but at the moment without attention in the ordering of the result.\n",
    "- key: text-id\n",
    "- values:\n",
    "    - min_dist: minimum distance between all combinations of words in the order given by the search term\n",
    "    - occurences: dict of the word occurences in the text\n",
    "        - key: index of the word in the search term (0 = first word)\n",
    "        - values: list of occurences in the text with start and end position of the words like: [(stard-char, end-char), ...]\n",
    "    - occurences_count: amount of all matches in the text"
   ]
  },
  {
   "cell_type": "code",
   "execution_count": 15,
   "metadata": {},
   "outputs": [
    {
     "name": "stdout",
     "output_type": "stream",
     "text": [
      "OrderedDict([('1',\n",
      "              {'min_dist': 370,\n",
      "               'occurences': {0: [(31, 39)], 1: [(409, 424)]},\n",
      "               'occurences_count': 2})])\n"
     ]
    }
   ],
   "source": [
    "# input as list of allready preprocessed search-term. same lemmatization is important, as in index\n",
    "searchResult = iv.fullTextSearch(['neukölln', 'flughafenstraße'])\n",
    "pprint(searchResult)"
   ]
  },
  {
   "cell_type": "code",
   "execution_count": 16,
   "metadata": {},
   "outputs": [
    {
     "name": "stdout",
     "output_type": "stream",
     "text": [
      "OrderedDict([('2',\n",
      "              {'min_dist': 5,\n",
      "               'occurences': {0: [(80, 85)], 1: [(90, 98)]},\n",
      "               'occurences_count': 2}),\n",
      "             ('1', {'occurences': {0: [(141, 146)]}, 'occurences_count': 1})])\n"
     ]
    }
   ],
   "source": [
    "searchResult = iv.fullTextSearch(['nacht', 'dienstag'])\n",
    "pprint(searchResult)"
   ]
  },
  {
   "cell_type": "code",
   "execution_count": 18,
   "metadata": {},
   "outputs": [
    {
     "name": "stdout",
     "output_type": "stream",
     "text": [
      "OrderedDict([('1',\n",
      "              {'min_dist': 49,\n",
      "               'occurences': {0: [(64, 76)], 1: [(105, 121)], 2: [(141, 146)]},\n",
      "               'occurences_count': 3}),\n",
      "             ('2', {'occurences': {2: [(80, 85)]}, 'occurences_count': 1})])\n"
     ]
    }
   ],
   "source": [
    "searchResult = iv.fullTextSearch(['verletzung', 'sicherheitsfirma', 'nacht'])\n",
    "pprint(searchResult)"
   ]
  }
 ],
 "metadata": {
  "kernelspec": {
   "display_name": "Python 3",
   "language": "python",
   "name": "python3"
  },
  "language_info": {
   "codemirror_mode": {
    "name": "ipython",
    "version": 3
   },
   "file_extension": ".py",
   "mimetype": "text/x-python",
   "name": "python",
   "nbconvert_exporter": "python",
   "pygments_lexer": "ipython3",
   "version": "3.7.1"
  }
 },
 "nbformat": 4,
 "nbformat_minor": 2
}
